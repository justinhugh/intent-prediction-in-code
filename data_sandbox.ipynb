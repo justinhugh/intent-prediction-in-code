{
 "cells": [
  {
   "cell_type": "markdown",
   "metadata": {},
   "source": [
    "[StaQC: A Systematically Mined Question-Code Dataset from Stack Overflow](https://dl.acm.org/doi/fullHtml/10.1145/3178876.3186081#fn1)\n",
    "- [StaQC Data](https://github.com/LittleYUYU/StackOverflow-Question-Code-Dataset)  \n",
    "    - [Pickle File Info](https://www.geeksforgeeks.org/understanding-python-pickling-example/)\n",
    "    \n",
    "\n",
    "[GitHub Releases Dataset of Six Million Open Source Methods for Code Search Research](https://syncedreview.com/2019/10/01/github-releases-dataset-of-six-million-open-source-methods-for-code-search-research/)\n",
    "- [ CodeSearchNet](https://github.com/github/CodeSearchNet/blob/master/README.md#setup)  \n",
    "    -[ Docker](https://docs.docker.com/get-started/)\n",
    "    \n",
    "\n",
    "[SCC: Automatic Classification of Code Snippets](https://arxiv.org/pdf/1809.07945.pdf)\n",
    "\n",
    "[Predicting the Programming Language of Questions and Snippets of Stack Overflow\n",
    "Using Natural Language Processing](https://dspace.library.uvic.ca/bitstream/handle/1828/10054/Kamel_Alrashedy_MSC_2018.pdf?sequence=1&isAllowed=y)\n",
    "\n",
    "[Stack Overflow Data Dump](https://www.brentozar.com/archive/2015/10/how-to-download-the-stack-overflow-database-via-bittorrent/)\n",
    "\n",
    "\n",
    "https://stackoverflow.blog/2009/06/04/stack-overflow-creative-commons-data-dump/"
   ]
  },
  {
   "cell_type": "code",
   "execution_count": null,
   "metadata": {},
   "outputs": [],
   "source": []
  }
 ],
 "metadata": {
  "kernelspec": {
   "display_name": "Python 3",
   "language": "python",
   "name": "python3"
  },
  "language_info": {
   "codemirror_mode": {
    "name": "ipython",
    "version": 3
   },
   "file_extension": ".py",
   "mimetype": "text/x-python",
   "name": "python",
   "nbconvert_exporter": "python",
   "pygments_lexer": "ipython3",
   "version": "3.8.6"
  }
 },
 "nbformat": 4,
 "nbformat_minor": 4
}
