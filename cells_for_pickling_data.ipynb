{
 "cells": [
  {
   "cell_type": "markdown",
   "metadata": {},
   "source": [
    "# Pickling Data"
   ]
  },
  {
   "cell_type": "markdown",
   "metadata": {},
   "source": [
    "The pickle group of functions allows python to save files in a reduced size binary format. These files also have the convenient property of saving the state of a model."
   ]
  },
  {
   "cell_type": "code",
   "execution_count": null,
   "metadata": {},
   "outputs": [],
   "source": [
    "# import the pickling functions.\n",
    "import pickle\n",
    "import io"
   ]
  },
  {
   "cell_type": "markdown",
   "metadata": {},
   "source": [
    "Variables can be saved using an open file object in the write binary mode `wb+`. The `w` stands for write, the `b` stands for binary, and the `+` indicates that a new file should be created if it does not already exist.\n",
    "\n",
    "## Save Pickle File\n",
    "Below an example of saving a pickle file is provided."
   ]
  },
  {
   "cell_type": "code",
   "execution_count": null,
   "metadata": {},
   "outputs": [],
   "source": [
    "# To save data to a pickle file\n",
    "\n",
    "# Train data example\n",
    "pickled_conala_train_df = open('pickled_conala_train_df', 'wb+') # filename, then open file mode.\n",
    "pickle.dump(conala_train_df, pickled_conala_train_df) # writes a pickle binary to the open file.                   \n",
    "pickled_conala_train_df.close()\n",
    "\n",
    "# Test data example\n",
    "pickled_conala_test_df = open('pickled_conala_test_df', 'wb+') # filename, then open file mode.\n",
    "pickle.dump(conala_test_df, pickled_conala_test_df)   # writes a pickle binary to the open file.                    \n",
    "pickled_conala_test_df.close() "
   ]
  },
  {
   "cell_type": "markdown",
   "metadata": {},
   "source": [
    "## Load Pickle File\n",
    "In order to be used again the pickled files need to be loaded using the `pickle.load` function. \n",
    "This time the open file object should be in read binary mode, `rb`. The `r` stands for read and the `b` stands for binary. The `+` is not necessary here because the file should already exist if we're trying to read from it."
   ]
  },
  {
   "cell_type": "code",
   "execution_count": null,
   "metadata": {},
   "outputs": [],
   "source": [
    "# for reading also binary mode is important \n",
    "dbfile = open('pickled_agglom_model', 'rb')      \n",
    "agg_clus = pickle.load(dbfile) \n",
    "dbfile.close() "
   ]
  },
  {
   "cell_type": "markdown",
   "metadata": {},
   "source": [
    "## Dumping a Pickle of a Model Example"
   ]
  },
  {
   "cell_type": "markdown",
   "metadata": {},
   "source": [
    "A model can be saved and loaded in the same fasion as above. This allows us to avoid re-training models and to load state of a model."
   ]
  },
  {
   "cell_type": "code",
   "execution_count": null,
   "metadata": {},
   "outputs": [],
   "source": [
    "# Pickle the model for rapid use later. \n",
    "agglom_model = open('pickled_agglom_model', 'ab+') \n",
    "\n",
    "# source, destination \n",
    "pickle.dump(agg_clus, agglom_model)                      \n",
    "agglom_model.close() "
   ]
  },
  {
   "cell_type": "code",
   "execution_count": null,
   "metadata": {},
   "outputs": [],
   "source": [
    "from sklearn.cluster import AgglomerativeClustering\n",
    "agg_clus.labels_"
   ]
  }
 ],
 "metadata": {
  "kernelspec": {
   "display_name": "Python 3",
   "language": "python",
   "name": "python3"
  },
  "language_info": {
   "codemirror_mode": {
    "name": "ipython",
    "version": 3
   },
   "file_extension": ".py",
   "mimetype": "text/x-python",
   "name": "python",
   "nbconvert_exporter": "python",
   "pygments_lexer": "ipython3",
   "version": "3.8.6"
  }
 },
 "nbformat": 4,
 "nbformat_minor": 4
}
