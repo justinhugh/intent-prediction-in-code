{
 "cells": [
  {
   "cell_type": "markdown",
   "metadata": {},
   "source": [
    "\n",
    "# Code Intent Prediction\n",
    "## With Applied Machine Learning Techniques\n",
    "***\n",
    "### Justin Hugh\n",
    "#### Data Science Diploma Candidate, BrainStation\n",
    "##### December 18, 2020\n",
    "\n",
    "***"
   ]
  },
  {
   "cell_type": "markdown",
   "metadata": {},
   "source": [
    "## Table of Contents\n",
    "#### [ 1.0 - Introduction](#1.0---Introduction)\n",
    "- [ 1.1 - Problem](#1.1---Problem)\n",
    "\n",
    "#### [ 2.0 - Background](#2.0---Background)\n",
    "- [ 2.1 - Stack Overflow](#2.1---Stack-Overflow)\n",
    "- [ 2.2 - Packages and Libraries](#2.2---Packages-and-Libraries)\n",
    "\n",
    "#### [ 3.0 - Limitations and Assumptions](#3.0---Limitations-and-Assumptions)\n",
    "\n",
    "#### [ 4.0 - The Data](#4.0---The-Data)\n",
    "- [ 4.1 - Sources of Data](#4.1---Sources-of-Data)  \n",
    "    - [ 4.1.1 - CoNaLa](#4.1.1---CoNaLa)\n",
    "    - [ 4.1.2 - Other Sources of Data](#4.1.2---Others-Sources-of-Data)\n",
    "\n",
    "#### [ 5.0 - Exploratory Data Analysis](#5.0---Exploratory-Data-Analysis)  \n",
    "- [ 5.1 - Importing Data](#5.1---Importing-Data)   \n",
    "    - [ 5.1.1 - Importing CoNaLa Competition Data](#5.1.1---Importing-CoNaLa-Competition-Data)\n",
    "        - [ 5.1.1.1 - Importing CoNala Training Data](#5.1.1.1---Importing-CoNaLa-Training-Data)\n",
    "        - [ 5.1.1.2 - Importing CoNaLa Test Data](#5.1.1.2---Importing-CoNaLa-Test-Data)\n",
    "    - [ 5.1.2 - DataFrames from CoNaLa Competition Data](#5.1.2---DataFrames-from-CoNaLa-Competition-Data)\n",
    "    \n",
    "    \n",
    "&\n",
    "&\n",
    "&\n",
    "&\n",
    "    \n",
    "   \n",
    "    - [ 5.1.2 - CoNaLa Mined Data](#CoNaLa-Mined-Data)\n",
    "        - [ 5.1.2.1 - Proposed `prob` Cutoff](#Proposed-prob-Cutoff)\n",
    "- [ 5.2 - Combining Data](#Combining-Data) &&& Double Check This!\n",
    "    - [ 5.2.1 - Cleaning Data](#Cleaning-Data)\n",
    "- [ 5.3 - Vectorizing Text Data](#Vectorizing-Text-Data) && Should this go before combining?\n",
    "    - [ 5.3.1 - Simple Bag of Words Vectorization](#Simple-Bag-of-Words-Vectorization)\n",
    "        - [ 5.3.1.1 - Vectorizing `conala_train_df` with Bag of Words](#Vectorizing-conala_train_df-with-Bag-of-Words)\n",
    "        - [ 5.3.1.2 - Vectorizing `conala_mined_df` with Bag of Words](#Vectorizing-conala_mined_df-with-Bag-of-Words)\n",
    "        - [ 5.3.1.3 - Comparing Vectorized `conala_mined_df` and `conala_trained_df`](#Comparing-Vectorized-conala_mined_df-and-conala_trained_df)\n",
    "        - [ 5.3.1.4 - Combining DataFrames](#Combining-DataFrames)\n",
    "        - [ 5.3.1.5 - Dimension Reduction of Bag of Words](#Dimension-Reduction-of-Bag-of-Words)\n",
    "            - [ 5.3.1.5.1 - PCA on Bag of Words](#PCA-on-Bag-of-Words)\n",
    "            - [ 5.3.1.5.2 - T-SNE on Bag of Words](#T-SNE-on-Bag-of-Words)\n",
    "    - [ 5.3.2 - Word2Vec Text Vectorization](#Word2Vec-Text-Vectorization)\n",
    "        - [ \n",
    "        \n",
    "- [ Intent Paradigms](#Intent-Paradigms)  \n",
    "\n",
    "#### [ Modelling and Analysis](#Modelling-and-Analysis)\n",
    "\n",
    "#### [ Next Steps](#Next-Steps) \n",
    "\n",
    "#### [ Conclusion](#Conclusion)\n",
    "\n",
    "#### [ References](#References)"
   ]
  },
  {
   "cell_type": "markdown",
   "metadata": {},
   "source": [
    "***"
   ]
  },
  {
   "cell_type": "markdown",
   "metadata": {},
   "source": [
    "# 1.0 - Introduction\n",
    "[[Back to TOC]](#Table-of-Contents)"
   ]
  },
  {
   "cell_type": "markdown",
   "metadata": {},
   "source": [
    "This report and project have been conducted as a final requirement and submission for the BrainStation Data Science Bootcamp. I participated in the Toronto Fall 2020 cohort. The duration of this project was about 5 weeks of development, ending December 20, 2020. \n",
    "\n",
    "This workbook constitutes only the code required to conduct the final approach which was taken in order to address the problem. A wide range of exploration and alternative preprocessing/modelling approaches were conducted, but these have been excluded from this notebook for brevity. Supplementary information is provided alongside this notebook which speaks to these other conducted approaches."
   ]
  },
  {
   "cell_type": "markdown",
   "metadata": {},
   "source": [
    "## 1.1 - Problem\n",
    "[[Back To TOC]](#Table-of-Contents)\n",
    "\n",
    "Software and code are becoming present nearly everywhere in our daily lives both personal and professional. Whether it helps us accomplish complex and massive tasks, or powers the applications and products we rely on, the digital world is expanding. Yet, only a fraction of us are literate in code, and even among those of us who are, there are a wide range of languages and frameworks so no one is familiar with it all, and mistakes or misinterpretations can be made even on languages we're familiar with. \n",
    "\n",
    "I propose a model which could predict the intent or purpose of a sample of code. A tool like this would helpful in understanding more of the world around us and would be hugely impactful for:  \n",
    "- Education. Making code more accessible and interpretable.  \n",
    "- Security. Identifying code with malicious intent.  \n",
    "- Development. Providing contextual tooltips, suggestions, resources.   \n",
    "\n",
    "The goal of this project is to develop an ML model which employs NLP tools to interpret a samples of code and make a prediction as to its intent."
   ]
  },
  {
   "cell_type": "markdown",
   "metadata": {},
   "source": [
    "***"
   ]
  },
  {
   "cell_type": "markdown",
   "metadata": {},
   "source": [
    "# 2.0 - Background\n",
    "[[Back To TOC]](#Table-of-Contents)\n",
    "\n",
    "Currently, there are no commercialized or productized options available to a programmer who is looking to understand code that they are unable to interpret, whether in an academic, professional, or hobbyistic setting. \n",
    "\n",
    "For this project, I conducted preliminary research in order to find alternatives or studies on the topic, and while some others have begun study on this problem, it seems that state of the art applications in the field can perform well in translating python code to pseudocode [[1]](#References). However at the moment there is no high-performing model, or model that can convert the code into an English description. This difficulty occurs because the structure and syntax of the two types of text (code and intent) are quite different from one another, whereas this difference is less pronounced between code and pseudocode. Being able to create pseudocode is a wonderful start to the problem, but is insufficient for my goal in making code more accessible. For many hobbyists or even professionals who do not program as their main function, pseudocode will not be a familiar or fully interprable format.\n",
    "\n",
    "This will clearly be a difficult task, but I'm looking forward to learning and sharing more about the problem space in hopes of moving towards my goal myself, or sharing learning with others so that they can make their own progress on the matter.\n",
    "\n",
    "Natural Language Processing (NLP) Models have seen very large recent acceleration as a result of the success of smart assistants, as well as the commoditization of computing power. With this, support for very powerful libraries and approaches in language modelling are widely available, and there is extensive research on the topic. Because there are so many resources in the area, and because there continues to be a heavy amount of momentum, this is a great time to apply these techniques to my difficult problem space.\n",
    "\n",
    "Below I'll discuss other contexts surrounding the problems I'm tackling."
   ]
  },
  {
   "cell_type": "markdown",
   "metadata": {},
   "source": [
    "## 2.1 - Stack Overflow\n",
    "[[Back To TOC]](#Table-of-Contents)\n",
    "\n",
    "**Stack Overflow** is an online community for programmers [[2]](#References). The website provides a question and answer experience in which programmers can submit questions about how to accomplish various tasks or identify bugs in their code. Respondents to the queries are commonly other programmers who know of a solution or can provide helpful direction, often in the form of a code snippet. This website and service has become very widely popular and as a result hosts a large collection of code snippets, paired with a question/query. It is now one of the largest collections of coding knowledge online.\n",
    "\n",
    "Much of the code examined and used in this project originally comes from a post on Stack Overflow."
   ]
  },
  {
   "cell_type": "markdown",
   "metadata": {},
   "source": [
    "## 2.2 - Packages and Libraries\n",
    "[[Back To TOC]](#Table-of-Contents)\n",
    "\n",
    "There's a wealth of openly available python packages and libraries which are indispensible in tackling Machine Learning problems. These are dependencies of this project and I'll import a number of those needed in this section."
   ]
  },
  {
   "cell_type": "code",
   "execution_count": null,
   "metadata": {},
   "outputs": [],
   "source": [
    "# Libraries for general array/dataframe use\n",
    "import numpy as np \n",
    "import pandas as pd \n",
    "\n",
    "# Libraries for data visualization with python\n",
    "import matplotlib.pyplot as plt\n",
    "import seaborn as sns\n",
    "# Magic function to help presentation of these visuals\n",
    "%matplotlib inline\n",
    "\n",
    "# Functions for saving and importing data\n",
    "import pickle\n",
    "\n",
    "# Data Processing/Transformation Packages\n",
    "import json\n",
    "from sklearn.preprocessing import StandardScaler\n",
    "from sklearn.decomposition import PCA\n",
    "from sklearn.ensemble import BaggingClassifier\n",
    "\n",
    "# Word Vectorization and Natural Language Processing Libararies\n",
    "from sklearn.feature_extraction.text import CountVectorizer, TfidfVectorizer\n",
    "import nltk\n",
    "\n",
    "# Runtime tools and helpers\n",
    "from tqdm import tqdm\n",
    "import time \n",
    "import warnings\n",
    "warnings.filterwarnings(\"ignore\")"
   ]
  },
  {
   "cell_type": "markdown",
   "metadata": {},
   "source": [
    "These libaries are quite commonly used and are all easily acquired with [ Conda](https://docs.conda.io/projects/conda/en/latest/user-guide/install/macos.html) [[3]](#References)"
   ]
  },
  {
   "cell_type": "markdown",
   "metadata": {},
   "source": [
    "***"
   ]
  },
  {
   "cell_type": "markdown",
   "metadata": {},
   "source": [
    "# 3.0 - Limitations and Assumptions\n",
    "[[Back To TOC]](#Table-of-Contents)"
   ]
  },
  {
   "cell_type": "markdown",
   "metadata": {},
   "source": [
    "In this section I'll recognize some of the limitiations and assumptions to the modelling and analysis I will conduct below. Those listed here are generally applicable to the project at large. Any that are more specifically applicable to a certain step are discussed at that point in the analysis.\n",
    "\n",
    "- Some of this data is not current. The main sources of the data comes from a competition which was conducted in 2018. Software changes quite quickly and frequently. My model and this system's performance may be less applicable to presently written code, and will deprecate over time as libraries and languages are updated and the language, or prevalence of various functions adjusts to this.\n",
    "\n",
    "- I assume the data set originating from the competition training data does not have known significant errors, such as incorrect application of code or erroneous syntax. If these are present in abundance, then this system's performance will have \"learned\" incorrect code application.  \n",
    "\n",
    "- Developers are not uniquely identified in the data I've used. Not having this information restricts me from making more deep insights into code and intent on a developer-by-developer level which could potentially mean more accurate interpretations. Different developers can accomplish the same task by coding with quite different styles. However, not uniquely identifiying the developers is a good and necessary practice from a privacy and standpoint. If developers were uniquely identified in the data, this could potentially be used to reconstruct personal data, constituting a notable privacy concern.\n",
    "\n",
    "- The amount of data that is used and analyzed in this project is quite restricted. This is largely as a result of limitations of computing resources and time. As a next step in this project, one of the first considerations should be expanding the amount of data analyzed."
   ]
  },
  {
   "cell_type": "markdown",
   "metadata": {},
   "source": [
    "***"
   ]
  },
  {
   "cell_type": "markdown",
   "metadata": {},
   "source": [
    "# 4.0 - The Data\n",
    "[[Back To TOC]](#Table-of-Contents)\n",
    "\n",
    "This section will include notes about the sources of data used as inputs in this project. Where the data comes from, its characteristics, and how I intend to use it."
   ]
  },
  {
   "cell_type": "markdown",
   "metadata": {},
   "source": [
    "## 4.1 - Sources of Data\n",
    "[[Back To TOC]](#Table-of-Contents)\n",
    "\n",
    "To acquire the data used in this project, I conducted research, seeking sets of annotated code snippets. I found a good number of resources with much code available, but with varying characteristics. On one hand, I was able to find some well-structured and cleaned data, and on the other, I found large quantities of stored code, but either poorly formatted, or more difficult to process. \n",
    "\n",
    "I'll discuss below where I obtained the data."
   ]
  },
  {
   "cell_type": "markdown",
   "metadata": {},
   "source": [
    "### 4.1.1 - CoNaLa\n",
    "[[Back To TOC]](#Table-of-Contents)\n",
    "\n",
    "[_The Code/Natural Language Challenge (CoNaLa)_](https://conala-corpus.github.io/#dataset-information) is a challenge that was created by [_Carnegie Mellon University (CMU)_](https://www.cmu.edu/) along with [_NeuLab_](http://www.cs.cmu.edu/~neulab/) and [_STRUDEL Lab_](https://cmustrudel.github.io/) on May 31, 2018 in order to test systems for generating programs from natural language [[4]](#References). The original intent was to - given an english input such as \"sort list x in reverse order\" - have a system output such as `x.sort(reverse=True)` in Python. \n",
    "\n",
    "_CoNaLa_ is a competition with no end date, and the data are offered for use within the challenge itself, but also licensed for any other research on the intersection of code and natural languague, a use case which this project falls nicely into.\n",
    "\n",
    "_CoNaLa_ provides a wealth of publicly available data which is well suited for the needs of this project including: \n",
    "- Training Data: Data crawled from _Stack Overflow_ with 2,379 training examples.\n",
    "    - These data include user submitted queries, the corresponding code responses by other users on Stack Overflow. Each of these has been manually annotated with a revised intent field (the query rewritten to be more clear) by volunteers for the _CoNaLa_ competition.\n",
    "- Test Data: 500 test examples. These have been curated by annotators.\n",
    "    - These data were separated from the training data so that competitors could test their code with the same set. These are in the same format as the training data.\n",
    "- Mined Data: Automatically-mined data with 600,000 examples. \n",
    "    - _CoNaLa_ also provides extra data to be considered if participants are interested. These were automatically scraped from Stack Overflow in pairs of query, and response. However, the quality and accuracy of the responses are not verified at all. Thus, there is no revised intent field.\n",
    "    - A \"probability\" is provided with these data. This score was progammatically generated by the scraping protocol and indicates the level of relevance the scraped intent field (query) has to the code response.\n",
    "- Links to other helpful and similar data sets:\n",
    "    - [Django Dataset](https://ahcweb01.naist.jp/pseudogen/)  \n",
    "    - [StaQC](https://github.com/LittleYUYU/StackOverflow-Question-Code-Dataset) \n",
    "    - [Code Docstring Corpus](https://github.com/EdinburghNLP/code-docstring-corpus)\n",
    "        - These are simply links to other places were large amounts of code can be found, so very little cleaning or confirmation of its quality has been conducted. "
   ]
  },
  {
   "cell_type": "markdown",
   "metadata": {},
   "source": [
    "### 4.1.2 - Others Sources of Data\n",
    "[[Back To TOC]](#Table-of-Contents)"
   ]
  },
  {
   "cell_type": "markdown",
   "metadata": {},
   "source": [
    "Through the course of working on this project, it became quickly apparent when beginning to preprocess and preliminarily model with the data that I needed to work with a small sample of data. This is because the computing resources I had access to were restricted, and in order to complete the study within time constraints, I needed my models to train quickly, and without tying up large amounts of memory. For this reason, the CoNaLa Training Data and CoNaLa Test data discussed above were the only data sets which are used below. A priority next step to this project will be to acquire and clean a wider set of data and transfer the approach generated in this report to more data.\n",
    "\n",
    "I've done a wealth of work in finding other sets of data that would be appropriate to incorporate in the future. These are left out of this report for brevity, but provided in the companion markdown file `other_data_sources.md`\n",
    "\n",
    "I also made the decision to not include the CoNaLa Mined data further in this report after extensive exploration was conducted on that data. From that exploration I found that the data was for the most part of low quality that would harm or not improve the results of this report. Examples of the exploration conducted on this data and discussion on findings are included in the provided notebook, `conala_mined_data.ipynb`. "
   ]
  },
  {
   "cell_type": "markdown",
   "metadata": {},
   "source": [
    "***"
   ]
  },
  {
   "cell_type": "markdown",
   "metadata": {},
   "source": [
    "# 5.0 - Exploratory Data Analysis\n",
    "[[Back To TOC]](#Table-of-Contents)\n",
    "\n",
    "The purpose of Exploratory Data Analysis (EDA) step is to familiarize myself with the data and determine whether it has missing values or other deficiencies. This step is also an opportunity to clean the data so it may be analyzed further, and peek at some of the more immediately evident insights of the data and parameters I'm working with. By the end of these activities, I'll have a cleaned set of data which is prepared for modelling and deeper analysis. "
   ]
  },
  {
   "cell_type": "markdown",
   "metadata": {},
   "source": [
    "## 5.1 - Importing Data\n",
    "[[Back To TOC]](#Table-of-Contents)\n",
    "\n",
    "Before conducting exploration, I'll have to load in the data to this notebook. The data I use below all came from the _CoNaLa_ competition introduced above, and so a singular approach for loading the data will be sufficient. In this section I'll outline the method I used for doing this. I'll also conduct the data import itself."
   ]
  },
  {
   "cell_type": "markdown",
   "metadata": {},
   "source": [
    "### 5.1.1 - Importing CoNaLa Competition Data\n",
    "[[Back To TOC]](#Table-of-Contents)\n"
   ]
  },
  {
   "cell_type": "markdown",
   "metadata": {},
   "source": [
    "Recall from the [**CoNaLa Section**](#CoNaLa) above, the Competition data is comprised of data crawled from Stack Overflow with 2,379 training examples, and 500 test examples. The data has been made conveniently available. \n",
    "\n",
    "This data can be accessed through direct downloaded by clicking this link: [CoNaLa Corpus v1.1 (.zip file, 52.1 MB)](http://www.phontron.com/download/conala-corpus-v1.1.zip). It's also linked on the [CoNaLa Competition Page](https://conala-corpus.github.io/).\n",
    "\n",
    "This download produces a compressed `.zip` file. Once unzipped, the folder contians the data with training examples and the test examples stored in separate folders. Accordingly, I've loaded each of these into this notebook in a saparate step.\n",
    "\n",
    "In order for the data to be loaded for use with this notebook, and for organization, the corresponding data has been moved into the `data` folder in the same directory as this notebook."
   ]
  },
  {
   "cell_type": "markdown",
   "metadata": {},
   "source": [
    "#### 5.1.1.1 - Importing CoNaLa Training Data\n",
    "[[Back To TOC]](#Table-of-Contents)\n"
   ]
  },
  {
   "attachments": {
    "9b32217e-99d6-4518-9035-0ae5af08586c.png": {
     "image/png": "[encoded data removed]"
    }
   },
   "cell_type": "markdown",
   "metadata": {},
   "source": [
    "I'll start first with the training data.\n",
    "\n",
    "This data is provided in the format of a .json file, in a set of subfolders. I peeked at the data by opening the json file and viewing the text contained. A preview of what the data looks like is included below:\n",
    "\n",
    "![Screen Shot 2020-12-06 at 2.43.21 PM.png](attachment:9b32217e-99d6-4518-9035-0ae5af08586c.png)"
   ]
  },
  {
   "cell_type": "markdown",
   "metadata": {},
   "source": [
    "This looks like the data is contained in a list of JSON objects. This is great news, since this format is quite friendly for use with the `pandas` library. This will allow for conversion of this data into a DataFrame format which can be worked with in the upcoming process of data munging.\n",
    "\n",
    "Knowing this, I can construct my data extraction process accordingly."
   ]
  },
  {
   "cell_type": "code",
   "execution_count": null,
   "metadata": {},
   "outputs": [],
   "source": [
    "# CoNaLa Training Data\n",
    "\n",
    "# Open the json file, handle with `with` statement so the file is closed once finished\n",
    "# load the contents which are contained as a json object.\n",
    "with open('data/conala-corpus/conala-train.json') as f:\n",
    "    # Instantiate conala_train_data to hold the data.\n",
    "    conala_train_data = json.load(f)"
   ]
  },
  {
   "cell_type": "code",
   "execution_count": null,
   "metadata": {},
   "outputs": [],
   "source": [
    "# Peek at the loaded data\n",
    "conala_train_data"
   ]
  },
  {
   "cell_type": "code",
   "execution_count": null,
   "metadata": {},
   "outputs": [],
   "source": [
    "# Check number of json objects in the list.\n",
    "len(conala_train_data)"
   ]
  },
  {
   "cell_type": "markdown",
   "metadata": {},
   "source": [
    "This variable successfully loaded the data in a similar format, that is as a list of json objects, or equivalently, a list of dictionaries. I'll move onto the Test data and take the same approach."
   ]
  },
  {
   "attachments": {
    "482c8fe0-f451-4716-91fd-cf1e5a302dba.png": {
     "image/png": "[encoded data removed]"
    }
   },
   "cell_type": "markdown",
   "metadata": {},
   "source": [
    "#### 5.1.1.2 - Importing CoNaLa Test Data\n",
    "[[Back To TOC]](#Table-of-Contents)\n",
    "\n",
    "Similarly, this data is provided in the format of a .json file, in a set of subfolders. I peeked at the data, and show a preview included below:\n",
    "\n",
    "![Screen Shot 2020-12-06 at 3.51.09 PM.png](attachment:482c8fe0-f451-4716-91fd-cf1e5a302dba.png)"
   ]
  },
  {
   "cell_type": "markdown",
   "metadata": {},
   "source": [
    "This is also a list of JSON objects."
   ]
  },
  {
   "cell_type": "code",
   "execution_count": null,
   "metadata": {},
   "outputs": [],
   "source": [
    "# CoNaLa Test Data\n",
    "\n",
    "# Open file with `with` statement.\n",
    "with open('data/conala-corpus/conala-test.json') as f:\n",
    "    # Instantiate conala_test_data to hold the data.\n",
    "    conala_test_data = json.load(f)"
   ]
  },
  {
   "cell_type": "code",
   "execution_count": null,
   "metadata": {},
   "outputs": [],
   "source": [
    "# Peek\n",
    "conala_test_data"
   ]
  },
  {
   "cell_type": "code",
   "execution_count": null,
   "metadata": {},
   "outputs": [],
   "source": [
    "# Check number of json objects in the list.\n",
    "len(conala_test_data)"
   ]
  },
  {
   "cell_type": "markdown",
   "metadata": {},
   "source": [
    "This was also successful."
   ]
  },
  {
   "cell_type": "markdown",
   "metadata": {},
   "source": [
    "#### 5.1.2 - DataFrames from CoNaLa Competition Data\n",
    "[[Back To TOC]](#Table-of-Contents)"
   ]
  },
  {
   "cell_type": "markdown",
   "metadata": {},
   "source": [
    "In this section, I'll manipulate the data to be in a more workable format, namely a pandas DataFrame. Conveniently pandas includes a method `from_dict` which is able to ingest the json data in its current listed form and create a DataFrame from this."
   ]
  },
  {
   "cell_type": "code",
   "execution_count": null,
   "metadata": {
    "scrolled": true
   },
   "outputs": [],
   "source": [
    "# Create DataFrames from the CoNaLa train and test sets, both from a list of dictionary objects\n",
    "conala_train_df = pd.DataFrame.from_dict(conala_train_data)\n",
    "conala_test_df = pd.DataFrame.from_dict(conala_test_data)\n",
    "\n",
    "# Peek at the dfs\n",
    "display(conala_test_df.head())\n",
    "display(conala_train_df.head())\n",
    "\n",
    "# Check Shapes of dfs\n",
    "print(conala_train_df.shape)\n",
    "print(conala_test_df.shape)"
   ]
  },
  {
   "cell_type": "markdown",
   "metadata": {},
   "source": [
    "### Importing CoNaLa Mined Data\n",
    "[[Back To TOC]](#Table-of-Contents)"
   ]
  },
  {
   "cell_type": "markdown",
   "metadata": {},
   "source": [
    "- I assume the data set which I've modified from the *mined* data of the competition is adequately described by the \"probability\" it includes (discussed in more detail below). If the model which generates these probabilities is heavily flawed, then the result will be a poorly performing model as it is based on this data. Additionally, any bias which is included in the method for generating a probability score will feed forward into my own model, as this score was used to interpret the quality of the data."
   ]
  },
  {
   "attachments": {
    "1fc1a9aa-8647-4363-8fab-037ce17af3a1.png": {
     "image/png": "[encoded data removed]"
    }
   },
   "cell_type": "markdown",
   "metadata": {},
   "source": [
    "Recall from the [**CoNaLa Section**](#CoNaLa) above, the CoNaLa Competition also provided a set of mined data. This is comprised of data crawled from Stack Overflow with about 600,000 examples. However, these examples have not been been curated by annotators like the other sets. This data therefore needs to be more scrutinized.  \n",
    "\n",
    "These are included in the same direct download as the others, again available here: [CoNaLa Corpus v1.1 (.zip file, 52.1 MB)](http://www.phontron.com/download/conala-corpus-v1.1.zip).\n",
    "\n",
    "This data is provided in the format of a .jsonl file, so slightly different than above. I peeked at the data, and show a preview included below:\n",
    "\n",
    "![Screen Shot 2020-12-06 at 4.13.11 PM.png](attachment:1fc1a9aa-8647-4363-8fab-037ce17af3a1.png)\n",
    "\n",
    "Notably, this data is not contained in a list object, but includes multiple json objects in sequence."
   ]
  },
  {
   "cell_type": "code",
   "execution_count": null,
   "metadata": {},
   "outputs": [],
   "source": [
    "# CoNala Mined Data\n",
    "\n",
    "# This file is different in format from the other CoNaLa Competition Data, \n",
    "# and contains multiple json objects. We need to handle it differently.\n",
    "\n",
    "# First instantiate an empty list, this will be used hold all of the dictionary objects as a list\n",
    "# of dictionaries.\n",
    "conala_mined_data_list = []\n",
    "\n",
    "# Open file, loop through the json objects in the file, appending the list each time. \n",
    "with open('data/conala-corpus/conala-mined.jsonl') as f:\n",
    "    for jsonObj in tqdm(f):\n",
    "        code_dic = json.loads(jsonObj)\n",
    "        conala_mined_data_list.append(code_dic)"
   ]
  },
  {
   "cell_type": "code",
   "execution_count": null,
   "metadata": {
    "scrolled": true
   },
   "outputs": [],
   "source": [
    "# Peek at the list created.\n",
    "conala_mined_data_list[-5:]"
   ]
  },
  {
   "cell_type": "markdown",
   "metadata": {},
   "source": [
    "This data is now in the same list of json objects format that the train and test data above were. It can be converted into a pandas DataFrame similarly.\n",
    "\n",
    "Below I look briefly into the shape and contents of this DataFrame."
   ]
  },
  {
   "cell_type": "code",
   "execution_count": null,
   "metadata": {},
   "outputs": [],
   "source": [
    "# Convert list of json objets for mined data into pandas DataFrame\n",
    "conala_mined_df = pd.DataFrame(conala_mined_data_list)\n",
    "\n",
    "# Peek at the DataFrame for the mined CoNaLa data.\n",
    "display(conala_mined_df.head())\n",
    "\n",
    "# Check shape of the DataFrame\n",
    "conala_mined_df.shape"
   ]
  },
  {
   "cell_type": "markdown",
   "metadata": {},
   "source": [
    "Note that the index is not random, the records are sorted such that the probabilities decrease along the list. That is, the lower the rank of the index, the higher the probability score. To look more at the distribution of the probabilities included, the `pd.describe()` function is useful. "
   ]
  },
  {
   "cell_type": "code",
   "execution_count": null,
   "metadata": {},
   "outputs": [],
   "source": [
    "# Looking at the DataFrame's statistics for numerical columns.\n",
    "# Drop the columns for which statistics are not meaningful.\n",
    "conala_mined_df.drop([\"parent_answer_post_id\", \"question_id\"], axis=1).describe()"
   ]
  },
  {
   "cell_type": "markdown",
   "metadata": {},
   "source": [
    "The `parent_answer_post_id` and `question_id` columns are not too meaninful since the numbers stored in these columns are nominal, so these were dropped in the above.\n",
    "\n",
    "The statistics we see for the `prob` column is quite informative here. Of note, the mean probability is very low, at 6.4%, and even the 75th percentile is much lower than expected at 7.5%. This means there are far fewer records here where the code snippet is confidently associated with an intent than I was hoping for. This problem is discussed in the study which produced this mined code: \n",
    "\n",
    "> existing heuristic methods (e.g., pairing the title of a post with the code in the accepted answer) are limited both in their coverage and the\n",
    "correctness of the NL-code pairs obtained.\n",
    "\n",
    "To get a better intuition for how this `prob` score describes the association of the given `intent` and `snippet` I manually sampled the data and reviewed it.\n",
    "\n",
    "Firstly, for records with any `prob` value. "
   ]
  },
  {
   "cell_type": "code",
   "execution_count": null,
   "metadata": {},
   "outputs": [],
   "source": [
    "# First sample from the whole DataFrame.\n",
    "# Run cell multiple times to see random samples.\n",
    "conala_mined_df.sample(10)"
   ]
  },
  {
   "cell_type": "markdown",
   "metadata": {},
   "source": [
    "Now, for records with `prob` values greater than `0.5`. "
   ]
  },
  {
   "cell_type": "code",
   "execution_count": null,
   "metadata": {},
   "outputs": [],
   "source": [
    "# Sample from the DataFrame, among records with prob > 0.5.\n",
    "# Run cell multiple times to see random samples.\n",
    "conala_mined_df[conala_mined_df['prob']>0.5].sample(10)"
   ]
  },
  {
   "cell_type": "markdown",
   "metadata": {},
   "source": [
    "The intent of each row is commonly cut off in the cell output as the string is too long. In order to rectify this and view the entire contents, the below can be run."
   ]
  },
  {
   "cell_type": "code",
   "execution_count": null,
   "metadata": {},
   "outputs": [],
   "source": [
    "# Use this cell to view full contents of intent and snippet strings for specific \n",
    "# records in the sample, by its index.\n",
    "ind = 143 # index 143 just as an example\n",
    "print(conala_mined_df.loc[ind,'intent'])\n",
    "print(conala_mined_df.loc[ind,'snippet'])"
   ]
  },
  {
   "cell_type": "markdown",
   "metadata": {},
   "source": [
    "Visually exploring these code snippets would be easier if the snippets and intent could be viewed among multiple other records. In the below cell, I created a method of exporting rows to a csv file for visual and manual exploration. I used the below cell for many values of `ind`, and therefore many records in order to view and compare the snippets and intent contained in the `mined_df`. This was an important exercise so to get familiar with how well the `prob` score indicates the relation of these other two fields."
   ]
  },
  {
   "cell_type": "code",
   "execution_count": null,
   "metadata": {},
   "outputs": [],
   "source": [
    "# Store this record result in helper csv file to aid manually viewing individual\n",
    "# records as a random sample. \n",
    "# Run for each value of `ind` to be appended to a csv file for exploration.\n",
    "with open('prob_explore.csv', mode='a+') as f:\n",
    "    pd.DataFrame(conala_mined_df.loc[ind]).T.to_csv(f, mode='a+', header=False)"
   ]
  },
  {
   "cell_type": "markdown",
   "metadata": {},
   "source": [
    "After conducting multiple samples of the data, and with inspection of the columns `intent` and `snippet`, I've concluded that the the code snippets with low probability scores in the mined data are so poorly related with the intent they have been mined with that they are not valuable for training a model. I will remove a large number of the records based on the prob score they have. "
   ]
  },
  {
   "cell_type": "markdown",
   "metadata": {},
   "source": [
    "#### Proposed `prob` Cutoff\n",
    "[[Back To TOC]](#Table-of-Contents)"
   ]
  },
  {
   "cell_type": "markdown",
   "metadata": {},
   "source": [
    "Through the exploration and sampling above, I've learned that many records which have a probability of 50% or greater are quite reasonably associated with their code snippet. \n",
    "\n",
    "In the cell below we can determine how many records meet this threshold."
   ]
  },
  {
   "cell_type": "code",
   "execution_count": null,
   "metadata": {},
   "outputs": [],
   "source": [
    "# Can use this function to determine how many records have a probability greater than `prob_thresh`\n",
    "prob_thresh = 0.5\n",
    "len(conala_mined_df[conala_mined_df[\"prob\"]>prob_thresh])"
   ]
  },
  {
   "cell_type": "code",
   "execution_count": null,
   "metadata": {},
   "outputs": [],
   "source": [
    "# Use the mined_df with only the records with probability greater than 50%. \n",
    "conala_mined_df = conala_mined_df[conala_mined_df['prob']>prob_thresh]"
   ]
  },
  {
   "cell_type": "code",
   "execution_count": null,
   "metadata": {},
   "outputs": [],
   "source": [
    "# &&&&&& Pickle the mined df. \n",
    "pickled_conala_mined_df = open('pickled_conala_mined_df', 'ab+') \n",
    "# source, destination \n",
    "pickle.dump(conala_mined_df, pickled_conala_mined_df)                      \n",
    "pickled_conala_mined_df.close() "
   ]
  },
  {
   "cell_type": "code",
   "execution_count": null,
   "metadata": {},
   "outputs": [],
   "source": [
    "conala_mined_df"
   ]
  },
  {
   "cell_type": "markdown",
   "metadata": {},
   "source": [
    "## Combining Data\n",
    "[[Back To TOC]](#Table-of-Contents)"
   ]
  },
  {
   "cell_type": "markdown",
   "metadata": {},
   "source": [
    "We have have three DataFrames now. Let's look at their shapes and column names. We should compare them to make sure they are consistent, or create a plan for making them consistent."
   ]
  },
  {
   "cell_type": "code",
   "execution_count": null,
   "metadata": {
    "scrolled": true
   },
   "outputs": [],
   "source": [
    "# Summarize the shapes\n",
    "print(\"Shape of CoNaLa train df:\", conala_train_df.shape)\n",
    "print(\"Shape of CoNaLa test df:\", conala_test_df.shape)\n",
    "print(\"Shape of CoNaLa mined df:\", conala_mined_df.shape)\n",
    "\n",
    "print(\"\\nColumns of CoNaLa train df:\\n\", conala_train_df.columns)\n",
    "print(\"\\nColumns of CoNaLa test df:\\n\", conala_test_df.columns)\n",
    "print(\"\\nColumns of CoNaLa mined df:\\n\", conala_mined_df.columns)"
   ]
  },
  {
   "cell_type": "markdown",
   "metadata": {},
   "source": [
    "The `conala_mined_df` has three columns that are the same as the other two, and is missing one column. \n",
    "\n",
    "Same columns:\n",
    "- `question_id`\n",
    "- `snippet`\n",
    "- `intent`\n",
    "\n",
    "Missing Column:\n",
    "- `rewritten_intent`\n",
    "\n",
    "The `question id` appears to be used as an index. I should be able to do the same, but will have to check with the mined data that the numbers don't overlap as these need to be unique.\n",
    "\n",
    "The `snippet` column is where the snippets of code are contained. It's very likely that this column shouldn't be modified before being vectorized since this is the data that I'm trying to interpret and I do not want to introduce bias. When I conduct vectorizing on this shortly, there will be some decisions to be made about how to break up the data.\n",
    "\n",
    "The `intent` column contains plain english questions submitted by developers to [Stack Overflow](#stackoverflow.com), in order to achieve certain tasks. This contains information about **desired intent**. Unfortunately most of these are written as questions and so the intent is not structured as preferred. \n",
    "\n",
    "The `rewritten_intent` column is a colum which has been viewed by the CoNaLa team to create a more plain-english description about the code in question. This will be extremely helpful since this represents some preliminary cleaning which has already been done for me. Unfortunately this doesn't exist for the `conala_mined_df` so I'll have to determine how to either create it, or handle the disparity.\n",
    "\n",
    "This is a good time to export the data to a readable format for me to review visually."
   ]
  },
  {
   "cell_type": "code",
   "execution_count": null,
   "metadata": {},
   "outputs": [],
   "source": [
    "# Export to csv for readability.\n",
    "conala_train_df.to_csv(r'conala_train_df.csv')\n",
    "conala_test_df.to_csv(r'conala_test_df.csv')\n",
    "# This is a big dataset so we should reduce it \n",
    "conala_mined_df.to_csv(r'conala_mined_df.csv')"
   ]
  },
  {
   "cell_type": "markdown",
   "metadata": {},
   "source": [
    "### Cleaning Data\n",
    "[[Back To TOC]](#Table-of-Contents)"
   ]
  },
  {
   "cell_type": "code",
   "execution_count": null,
   "metadata": {},
   "outputs": [],
   "source": [
    "# df.duplicated()\n",
    "# df.nan()\n",
    "# describe()\n",
    "# Impute?\n"
   ]
  },
  {
   "cell_type": "code",
   "execution_count": null,
   "metadata": {},
   "outputs": [],
   "source": []
  },
  {
   "cell_type": "code",
   "execution_count": null,
   "metadata": {},
   "outputs": [],
   "source": []
  },
  {
   "cell_type": "markdown",
   "metadata": {},
   "source": [
    "\n",
    "&&&\n",
    "\n",
    "When conducting research and preliminary analysis, I also loaded some other data sets from a variety of different sources, each requiring a different workflow in order to bring into this workbook and analyze. I've included some of this exploration in the accompanying file: ``"
   ]
  },
  {
   "cell_type": "code",
   "execution_count": null,
   "metadata": {},
   "outputs": [],
   "source": []
  },
  {
   "cell_type": "code",
   "execution_count": null,
   "metadata": {},
   "outputs": [],
   "source": []
  },
  {
   "cell_type": "markdown",
   "metadata": {},
   "source": [
    "## Vectorizing Text Data\n",
    "[[Back To TOC]](#Table-of-Contents)"
   ]
  },
  {
   "cell_type": "markdown",
   "metadata": {},
   "source": [
    "### Simple Bag of Words Vectorization\n",
    "[[Back To TOC]](#Table-of-Contents)"
   ]
  },
  {
   "cell_type": "markdown",
   "metadata": {},
   "source": [
    "#### Vectorizing `conala_train_df` with Bag of Words\n",
    "[[Back To TOC]](#Table-of-Contents)"
   ]
  },
  {
   "cell_type": "code",
   "execution_count": null,
   "metadata": {},
   "outputs": [],
   "source": [
    "# Check for nan\n",
    "conala_train_df.isna().sum()"
   ]
  },
  {
   "cell_type": "code",
   "execution_count": null,
   "metadata": {},
   "outputs": [],
   "source": [
    "# Fill with \"\"\n",
    "conala_train_df.fillna('', inplace=True)\n",
    "\n",
    "conala_train_df.isna().sum()"
   ]
  },
  {
   "cell_type": "code",
   "execution_count": null,
   "metadata": {
    "scrolled": true
   },
   "outputs": [],
   "source": [
    "# Instantiate \n",
    "conala_train_bagofwords = CountVectorizer(stop_words=\"english\", min_df=5)\n",
    "\n",
    "# Fit \n",
    "conala_train_bagofwords.fit(conala_train_df[\"rewritten_intent\"])\n",
    "\n",
    "# Transform with the bag of words.\n",
    "conala_train_bag_SM = conala_train_bagofwords.transform(conala_train_df[\"rewritten_intent\"])\n",
    "conala_train_bag_SM"
   ]
  },
  {
   "cell_type": "code",
   "execution_count": null,
   "metadata": {
    "scrolled": true
   },
   "outputs": [],
   "source": [
    "# Create a DataFrame (more workable) from the Sparse Matrix \n",
    "conala_train_bag_df = pd.DataFrame(columns=conala_train_bagofwords.get_feature_names(),\n",
    "                                   data=conala_train_bag_SM.toarray())"
   ]
  },
  {
   "cell_type": "code",
   "execution_count": null,
   "metadata": {},
   "outputs": [],
   "source": [
    "conala_train_bag_df.sum().sort_values(ascending=False)"
   ]
  },
  {
   "cell_type": "markdown",
   "metadata": {},
   "source": [
    "#### Vectorizing `conala_test_df`"
   ]
  },
  {
   "cell_type": "code",
   "execution_count": null,
   "metadata": {},
   "outputs": [],
   "source": [
    "# Check for nan\n",
    "conala_test_df.isna().sum()"
   ]
  },
  {
   "cell_type": "code",
   "execution_count": null,
   "metadata": {},
   "outputs": [],
   "source": [
    "# Fill with \"\"\n",
    "conala_test_df.fillna('', inplace=True)\n",
    "\n",
    "conala_test_df.isna().sum()"
   ]
  },
  {
   "cell_type": "code",
   "execution_count": null,
   "metadata": {
    "scrolled": true
   },
   "outputs": [],
   "source": [
    "# Transform with the bag of words from the train df\n",
    "conala_test_bag_SM = conala_train_bagofwords.transform(conala_test_df[\"rewritten_intent\"])\n",
    "conala_test_bag_SM"
   ]
  },
  {
   "cell_type": "code",
   "execution_count": null,
   "metadata": {
    "scrolled": true
   },
   "outputs": [],
   "source": [
    "# Create a DataFrame (more workable) from the Sparse Matrix \n",
    "conala_test_bag_df = pd.DataFrame(columns=conala_train_bagofwords.get_feature_names(),\n",
    "                                   data=conala_test_bag_SM.toarray())"
   ]
  },
  {
   "cell_type": "markdown",
   "metadata": {},
   "source": [
    "Since this is our test set, we shouldn't peek at the results of the transformation here."
   ]
  },
  {
   "cell_type": "markdown",
   "metadata": {},
   "source": [
    "#### Vectorizing `conala_mined_df` with Bag of Words\n",
    "[[Back To TOC]](#Table-of-Contents)"
   ]
  },
  {
   "cell_type": "markdown",
   "metadata": {},
   "source": [
    "We should have less confidence in the `intent` field contained in `conala_mined_df`, since this field is coming from a procedurally collected dataset, and has not been manually cleaned like that of the trained data. Because of this I'm proposing to use the bag of words we have fit to the train dataset in order to transform the mined dataset here. This will (hopefully) have the effect of identifying the words that should be considered as signficant to determining intent, as indicated by the fit on the training data set."
   ]
  },
  {
   "cell_type": "code",
   "execution_count": null,
   "metadata": {},
   "outputs": [],
   "source": [
    "# Check for nan\n",
    "conala_mined_df.isna().sum()"
   ]
  },
  {
   "cell_type": "code",
   "execution_count": null,
   "metadata": {
    "scrolled": true
   },
   "outputs": [],
   "source": [
    "# Transform with the bag of words from the train df\n",
    "conala_mined_bag_SM = conala_train_bagofwords.transform(conala_mined_df[\"intent\"])\n",
    "conala_mined_bag_SM"
   ]
  },
  {
   "cell_type": "markdown",
   "metadata": {},
   "source": [
    "The number of stored elements from the mined df is a bit low. This may not be a good way of interpreting the mined code. There's some things we can try/consider: \n",
    "\n",
    "- graph min_df, and look at vocab size as WELL as elements contained. as WELL as vocab:records, elements:records. \n",
    "\n",
    "- only some of the mined records have high probability anyways, maybe we can filter out low probabilities and try again.\n",
    "- maybe we filter out the rows that have no words in the bag of words which will cut down the data anways\n",
    "- maybe both."
   ]
  },
  {
   "cell_type": "code",
   "execution_count": null,
   "metadata": {
    "scrolled": true
   },
   "outputs": [],
   "source": [
    "# Create a DataFrame (more workable) from the Sparse Matrix \n",
    "conala_mined_bag_df = pd.DataFrame(columns=conala_train_bagofwords.get_feature_names(),\n",
    "                                   data=conala_mined_bag_SM.toarray())"
   ]
  },
  {
   "cell_type": "code",
   "execution_count": null,
   "metadata": {},
   "outputs": [],
   "source": [
    "conala_mined_bag_df.sum().sort_values(ascending=False)"
   ]
  },
  {
   "cell_type": "markdown",
   "metadata": {},
   "source": [
    " "
   ]
  },
  {
   "cell_type": "markdown",
   "metadata": {},
   "source": [
    "#### Comparing Vectorized `conala_mined_df` and `conala_trained_df`\n",
    "[[Back To TOC]](#Table-of-Contents)"
   ]
  },
  {
   "cell_type": "code",
   "execution_count": null,
   "metadata": {
    "scrolled": true
   },
   "outputs": [],
   "source": [
    "conala_train_bag_df.sum().index==conala_mined_bag_df.sum().index"
   ]
  },
  {
   "cell_type": "code",
   "execution_count": null,
   "metadata": {},
   "outputs": [],
   "source": [
    "conala_train_bag_df.sum().values\n",
    "conala_mined_bag_df.sum().values"
   ]
  },
  {
   "cell_type": "code",
   "execution_count": null,
   "metadata": {},
   "outputs": [],
   "source": [
    "# Create a df for comparison of word frequency in bag of words\n",
    "bag_df = pd.DataFrame(data={\"train_freq\":conala_train_bag_df.sum().values, \"mined_freq\":conala_mined_bag_df.sum().values},\n",
    "             index=conala_train_bag_df.sum().index)"
   ]
  },
  {
   "cell_type": "code",
   "execution_count": null,
   "metadata": {},
   "outputs": [],
   "source": [
    "# Inspecting the most common terms of the bag of words.\n",
    "display(bag_df.sort_values(by=\"train_freq\", ascending=False))\n",
    "display(bag_df.sort_values(by=\"mined_freq\", ascending=False))"
   ]
  },
  {
   "cell_type": "code",
   "execution_count": null,
   "metadata": {},
   "outputs": [],
   "source": [
    "train_bag_sorted = bag_df.sort_values(by=\"train_freq\", ascending=False)"
   ]
  },
  {
   "cell_type": "code",
   "execution_count": null,
   "metadata": {},
   "outputs": [],
   "source": [
    "# Plot term frequency, mined compared with train\n",
    "plt.figure(figsize=(8,80))\n",
    "plt.barh(train_bag_sorted.index,train_bag_sorted[\"train_freq\"], fill=False, edgecolor='b')\n",
    "plt.barh(train_bag_sorted.index,train_bag_sorted[\"mined_freq\"], fill=False, edgecolor='r')\n",
    "plt.autoscale(enable=True, axis='y', tight=True)\n",
    "plt.show()"
   ]
  },
  {
   "cell_type": "markdown",
   "metadata": {},
   "source": [
    "The terms are actually quite comparable. Enough so that I'm comfortable proceeding with this for preliminary modelling.\n",
    "\n",
    "One point in particular is worth noting. The term \"python\" is far more represented in the mined data. This indicates to me that the term is so frequently used that it is not actually helpful in identifying intent. This is not a surprising result since the CoNaLa competition was designed with Python code specifically being analyzed. **I'm going to drop this row** since it simply does not give valuable information seeing as the code should all be written in python anyways."
   ]
  },
  {
   "cell_type": "markdown",
   "metadata": {},
   "source": [
    "#### Combining DataFrames\n",
    "[[Back To TOC]](#Table-of-Contents)"
   ]
  },
  {
   "cell_type": "code",
   "execution_count": null,
   "metadata": {},
   "outputs": [],
   "source": [
    "print(conala_train_bag_df.shape)\n",
    "print(conala_mined_bag_df.shape)\n",
    "print(conala_train_bag_df.shape[0]+conala_mined_bag_df.shape[0])"
   ]
  },
  {
   "cell_type": "code",
   "execution_count": null,
   "metadata": {},
   "outputs": [],
   "source": [
    "combined_bag_df = pd.concat([conala_train_bag_df, conala_mined_bag_df], ignore_index=True)\n",
    "combined_bag_df"
   ]
  },
  {
   "cell_type": "markdown",
   "metadata": {},
   "source": [
    "The first 2379 rows are from the train data, and the last 3385 are from the mined data."
   ]
  },
  {
   "cell_type": "code",
   "execution_count": null,
   "metadata": {},
   "outputs": [],
   "source": [
    "# Dropping the `python` column\n",
    "combined_bag_df.drop(columns=\"python\", index=1, inplace=True)"
   ]
  },
  {
   "cell_type": "code",
   "execution_count": null,
   "metadata": {},
   "outputs": [],
   "source": [
    "from varname import nameof\n",
    "# &&&&&& Pickling both dfs. \n",
    "pickle_list = [conala_train_bag_df, conala_mined_bag_df, combined_bag_df]\n",
    "\n",
    "for df in pickle_list:\n",
    "    file = open(f'pickled_{nameof(df)}', 'ab+') \n",
    "    pickle.dump(df, file)                      \n",
    "    file.close()"
   ]
  },
  {
   "cell_type": "markdown",
   "metadata": {},
   "source": [
    "#### Dimension Reduction of Bag of Words\n",
    "[[Back To TOC]](#Table-of-Contents)"
   ]
  },
  {
   "cell_type": "markdown",
   "metadata": {},
   "source": [
    "##### PCA on Bag of Words\n",
    "[[Back To TOC]](#Table-of-Contents)"
   ]
  },
  {
   "cell_type": "markdown",
   "metadata": {},
   "source": [
    "##### T-SNE on Bag of Words\n",
    "[[Back To TOC]](#Table-of-Contents)"
   ]
  },
  {
   "cell_type": "markdown",
   "metadata": {},
   "source": [
    "### Word2Vec Text Vectorization\n",
    "[[Back To TOC]](#Table-of-Contents)\n",
    "\n",
    "Word2Vec Embeddings are \n",
    "\n",
    "See also Doc2Vec, FastText and wrappers for VarEmbed and WordRank.\n",
    "[[x]](#References)"
   ]
  },
  {
   "cell_type": "code",
   "execution_count": null,
   "metadata": {},
   "outputs": [],
   "source": [
    "# Import Gensim, and get word2vec model methods. \n",
    "from gensim.models import Word2Vec\n",
    "import gensim.downloader # allows downloading of existing models\n",
    "\n",
    "# Downloading a pre-trained vector using 50 dimensions, from twitter data\n",
    "wv = gensim.downloader.load('glove-twitter-50')"
   ]
  },
  {
   "cell_type": "code",
   "execution_count": null,
   "metadata": {},
   "outputs": [],
   "source": [
    "# Checking vocab type\n",
    "type(wv.vocab)"
   ]
  },
  {
   "cell_type": "code",
   "execution_count": null,
   "metadata": {},
   "outputs": [],
   "source": [
    "# Terms in vocab\n",
    "len(wv.vocab)"
   ]
  },
  {
   "cell_type": "code",
   "execution_count": null,
   "metadata": {},
   "outputs": [],
   "source": [
    "# Checking for similar terms, cosine similarity!\n",
    "wv.most_similar(\"man\")"
   ]
  },
  {
   "cell_type": "code",
   "execution_count": null,
   "metadata": {},
   "outputs": [],
   "source": [
    "# Check if word is in wv vocab\n",
    "\"cat\" in wv.vocab"
   ]
  },
  {
   "cell_type": "code",
   "execution_count": null,
   "metadata": {},
   "outputs": [],
   "source": [
    "# How many unique word are in our corpus?\n",
    "len(unique_words)"
   ]
  },
  {
   "cell_type": "markdown",
   "metadata": {},
   "source": [
    "now check how many of these are in the word2vec pre-trained model."
   ]
  },
  {
   "cell_type": "code",
   "execution_count": null,
   "metadata": {},
   "outputs": [],
   "source": [
    "# Find the list of words contained in model, and those missing.\n",
    "contained=[] # list of terms in both our corpus and the model\n",
    "missing=[] # list of terms in our corpus, but not the model\n",
    "msk=[] # True/false mask for unique words that are in the model. \n",
    "for i in unique_words:\n",
    "    if(i in wv.vocab):\n",
    "        msk.append(1)\n",
    "        contained.append(i)\n",
    "    else:\n",
    "        msk.append(0)\n",
    "        missing.append(i)\n",
    "sum(msk)"
   ]
  },
  {
   "cell_type": "code",
   "execution_count": null,
   "metadata": {},
   "outputs": [],
   "source": [
    "# peek at missing words\n",
    "missing"
   ]
  },
  {
   "cell_type": "markdown",
   "metadata": {},
   "source": [
    "&&&& Loading Pre-existing vec model"
   ]
  },
  {
   "cell_type": "markdown",
   "metadata": {},
   "source": [
    "&&&&& When using Word2Vec, there's much extra thought to be given regarding how the sentences I'm feeding to the model will be handled. There's a large number of special characters such as brackets and \"%\" for example."
   ]
  },
  {
   "cell_type": "markdown",
   "metadata": {},
   "source": [
    "&&&&& Comparing the unique words to vocab of pre-trained."
   ]
  },
  {
   "cell_type": "code",
   "execution_count": null,
   "metadata": {},
   "outputs": [],
   "source": [
    "# A couple of functions to help process lists of text sentences.\n",
    "\n",
    "import re\n",
    "import nltk\n",
    "nltk.download('punkt')\n",
    "\n",
    "def clean_split_text_list(li):\n",
    "    '''\n",
    "    Takes a list of sentences.\n",
    "    Returns a list of lists, each inner list is words in a sentence.\n",
    "    Also adds a space on either side of non-word, non-digit chars. \n",
    "    This allows for brackets, etc. to be considered as their own word, unless \n",
    "    vectorized with a model which does not include them.\n",
    "    '''\n",
    "    \n",
    "    new_list = list()\n",
    "    for i in li:\n",
    "        try:\n",
    "            i = i.lower() #lowercase the sentence\n",
    "        except:\n",
    "            pass\n",
    "        try:\n",
    "            i = re.sub('([^a-zA-Z\\ \\d])', r' \\1 ', i) # Add spaces between special chars\n",
    "        except:\n",
    "            pass\n",
    "        try:\n",
    "            i = list(i.split(' '))\n",
    "        except:\n",
    "            pass\n",
    "        new_list.append(i)\n",
    "    return new_list\n",
    "\n",
    "def vectorize_text_list(li):\n",
    "    '''\n",
    "    Takes a list of lists.\n",
    "        - first list is a sentence\n",
    "        - inner list is a list of words.\n",
    "    Returns a list of lists, each inner list is words in a sentence.\n",
    "    Also adds a space on either side of non-word, non-digit chars. \n",
    "    This allows for brackets, etc. to be considered as their own word, unless \n",
    "    vectorized with a model which does not include them.\n",
    "    '''\n",
    "    new_list=list() # new list object to be returned at end.\n",
    "    for i in li:\n",
    "        if i == None:\n",
    "            new_list.append(np.zeros_like(wv[\"empty\"])) # If None, empty array of wv shape.\n",
    "            continue\n",
    "        if type(i) == float:\n",
    "            i = str(i)\n",
    "        sub_list=list() # list of vecs, representing a sentence\n",
    "        for j in i: \n",
    "            try:\n",
    "                vec = wv[j]\n",
    "                sub_list.append(vec)\n",
    "            except KeyError:\n",
    "                continue\n",
    "        new_list.append(sub_list)\n",
    "    return new_list"
   ]
  },
  {
   "cell_type": "markdown",
   "metadata": {},
   "source": [
    "#### PCA on Word2Vec\n",
    "[[Back To TOC]](#Table-of-Contents)"
   ]
  },
  {
   "cell_type": "markdown",
   "metadata": {},
   "source": [
    "#### T-SNE on Word2Vec\n",
    "[[Back To TOC]](#Table-of-Contents)"
   ]
  },
  {
   "cell_type": "markdown",
   "metadata": {},
   "source": [
    "## Intent Paradigms\n",
    "[[Back To TOC]](#Table-of-Contents)\n",
    "\n",
    "We can look at the above graph to see some common themes which emerge, at least on the level of word frequency. \n",
    "\n",
    "- String manipulation \n",
    "- List manipulation \n",
    "- Type change\n",
    "- Regular Expression\n",
    "- DataFrame Manipulation\n",
    "- Find object  \n",
    "\n",
    "\n",
    "&&...\n",
    "\n"
   ]
  },
  {
   "cell_type": "markdown",
   "metadata": {},
   "source": []
  },
  {
   "cell_type": "markdown",
   "metadata": {},
   "source": [
    "# Modelling and Analysis\n",
    "[[Back To TOC]](#Table-of-Contents)\n"
   ]
  },
  {
   "cell_type": "markdown",
   "metadata": {},
   "source": [
    "## ML Clustering Models"
   ]
  },
  {
   "cell_type": "code",
   "execution_count": null,
   "metadata": {},
   "outputs": [],
   "source": [
    "# For this preliminary modelling, we'll work with: \n",
    "combined_bag_df"
   ]
  },
  {
   "cell_type": "markdown",
   "metadata": {},
   "source": [
    "With this data, our goal is to identify a number of clusters which are \"similar\" to one another. These can give an understanding of the paradigms which are commonly found in code snippets (at least in Stack Overflow). \n",
    "\n",
    "So the plan of action will be to apply various clustering models to the vectorized data to see what we can learn from each in turn. The 4 we will try are: \n",
    "- Agglomerative\n",
    "- DB Scan\n",
    "- KMeans\n",
    "- Gaussian Mixture"
   ]
  },
  {
   "cell_type": "code",
   "execution_count": null,
   "metadata": {},
   "outputs": [],
   "source": [
    "# Importing the libraries\n",
    "from sklearn.cluster import AgglomerativeClustering\n",
    "from scipy.cluster.hierarchy import dendrogram, linkage\n",
    "from scipy.cluster.hierarchy import fcluster\n",
    "from sklearn.cluster import DBSCAN\n",
    "from sklearn.cluster import KMeans\n",
    "from sklearn.mixture import GaussianMixture\n",
    "from sklearn.metrics import silhouette_score"
   ]
  },
  {
   "cell_type": "markdown",
   "metadata": {},
   "source": [
    "### Agglomerative Clustering\n",
    "[[Back To TOC]](#Table-of-Contents)\n",
    "\n",
    "- Single\n",
    "- Maximum\n",
    "- Average\n",
    "- Ward's\n"
   ]
  },
  {
   "cell_type": "code",
   "execution_count": null,
   "metadata": {
    "colab": {},
    "colab_type": "code",
    "id": "ioY5cN6-dADy",
    "outputId": "bc48a87e-5a0e-4210-c1bc-cf428a2d908e"
   },
   "outputs": [],
   "source": [
    "%%time\n",
    "from scipy.cluster.hierarchy import dendrogram, linkage\n",
    "# we are using the average linkage here\n",
    "linkagemat = linkage(combined_bag_df, 'average') "
   ]
  },
  {
   "cell_type": "code",
   "execution_count": null,
   "metadata": {
    "colab": {},
    "colab_type": "code",
    "id": "ioY5cN6-dADy",
    "outputId": "bc48a87e-5a0e-4210-c1bc-cf428a2d908e"
   },
   "outputs": [],
   "source": [
    "%%time\n",
    "plt.figure(figsize=(25, 10))\n",
    "dendrogram(\n",
    "    linkagemat,\n",
    "    leaf_rotation=90.,  # rotates the x axis labels\n",
    "    leaf_font_size=8.  # font size for the x axis labels\n",
    ");"
   ]
  },
  {
   "cell_type": "markdown",
   "metadata": {},
   "source": [
    "From the dendrogram above, we can see how the number of clusters reduces as the avereage distrance is increased. "
   ]
  },
  {
   "cell_type": "code",
   "execution_count": null,
   "metadata": {
    "colab": {},
    "colab_type": "code",
    "id": "0vUuDq-zdAD6"
   },
   "outputs": [],
   "source": [
    "%%time\n",
    "agg_clus = AgglomerativeClustering(n_clusters=20, linkage='average').fit(combined_bag_df)"
   ]
  },
  {
   "cell_type": "code",
   "execution_count": null,
   "metadata": {
    "colab": {},
    "colab_type": "code",
    "id": "OeKgx3b3dAD8",
    "outputId": "9d233552-7972-4195-944f-74bf1f53b817"
   },
   "outputs": [],
   "source": [
    "agg_clus.labels_"
   ]
  },
  {
   "cell_type": "code",
   "execution_count": null,
   "metadata": {},
   "outputs": [],
   "source": [
    "np.unique(agg_clus.labels_, return_counts=True)"
   ]
  },
  {
   "cell_type": "code",
   "execution_count": null,
   "metadata": {},
   "outputs": [],
   "source": [
    "from sklearn.metrics.cluster import silhouette_score\n",
    "\n",
    "silhouette_score(combined_bag_df, agg_clus.labels_)"
   ]
  },
  {
   "cell_type": "markdown",
   "metadata": {},
   "source": [
    "This doesn't seem all that helpful. We do have multiple clusters, but the vast majority of them lie in one.\n",
    "\n",
    "We can try to standard scale the data and run the same."
   ]
  },
  {
   "cell_type": "code",
   "execution_count": null,
   "metadata": {},
   "outputs": [],
   "source": [
    "from sklearn.preprocessing import StandardScaler\n",
    "\n",
    "# Initialize\n",
    "ss = StandardScaler()\n",
    "\n",
    "# Fit \n",
    "ss_fit = ss.fit(combined_bag_df)\n",
    "\n",
    "# Transform\n",
    "combined_bag_df_ss = ss.transform(combined_bag_df)"
   ]
  },
  {
   "cell_type": "code",
   "execution_count": null,
   "metadata": {
    "colab": {},
    "colab_type": "code",
    "id": "ioY5cN6-dADy",
    "outputId": "bc48a87e-5a0e-4210-c1bc-cf428a2d908e"
   },
   "outputs": [],
   "source": [
    "%%time\n",
    "from scipy.cluster.hierarchy import dendrogram, linkage\n",
    "# we are using the average linkage here\n",
    "linkagemat = linkage(combined_bag_df_ss, 'average') "
   ]
  },
  {
   "cell_type": "code",
   "execution_count": null,
   "metadata": {
    "colab": {},
    "colab_type": "code",
    "id": "ioY5cN6-dADy",
    "outputId": "bc48a87e-5a0e-4210-c1bc-cf428a2d908e"
   },
   "outputs": [],
   "source": [
    "%%time\n",
    "plt.figure(figsize=(25, 10))\n",
    "dendrogram(\n",
    "    linkagemat,\n",
    "    leaf_rotation=90.,  # rotates the x axis labels\n",
    "    leaf_font_size=8.  # font size for the x axis labels\n",
    ");"
   ]
  },
  {
   "cell_type": "markdown",
   "metadata": {},
   "source": [
    "From the dendrogram above, we can see how the number of clusters reduces as the avereage distrance is increased. "
   ]
  },
  {
   "cell_type": "code",
   "execution_count": null,
   "metadata": {
    "colab": {},
    "colab_type": "code",
    "id": "0vUuDq-zdAD6",
    "scrolled": true
   },
   "outputs": [],
   "source": [
    "%%time\n",
    "agg_clus = AgglomerativeClustering(n_clusters=20, linkage='average').fit(combined_bag_df_ss)"
   ]
  },
  {
   "cell_type": "code",
   "execution_count": null,
   "metadata": {},
   "outputs": [],
   "source": [
    "# Pickle the model for rapid use later. \n",
    "agglom_model = open('pickled_agglom_model', 'ab+') \n",
    "\n",
    "# source, destination \n",
    "pickle.dump(agg_clus, agglom_model)                      \n",
    "agglom_model.close() "
   ]
  },
  {
   "cell_type": "code",
   "execution_count": null,
   "metadata": {
    "colab": {},
    "colab_type": "code",
    "id": "OeKgx3b3dAD8",
    "outputId": "9d233552-7972-4195-944f-74bf1f53b817"
   },
   "outputs": [],
   "source": [
    "agg_clus.labels_"
   ]
  },
  {
   "cell_type": "code",
   "execution_count": null,
   "metadata": {},
   "outputs": [],
   "source": [
    "np.unique(agg_clus.labels_, return_counts=True)"
   ]
  },
  {
   "cell_type": "code",
   "execution_count": null,
   "metadata": {},
   "outputs": [],
   "source": [
    "from sklearn.metrics.cluster import silhouette_score\n",
    "\n",
    "silhouette_score(combined_bag_df, agg_clus.labels_)"
   ]
  },
  {
   "cell_type": "markdown",
   "metadata": {},
   "source": [
    "This is just as bad, and the silhouette score is worse."
   ]
  },
  {
   "cell_type": "markdown",
   "metadata": {},
   "source": [
    "### DBSCAN\n",
    "[[Back To TOC]](#Table-of-Contents)\n"
   ]
  },
  {
   "cell_type": "code",
   "execution_count": null,
   "metadata": {},
   "outputs": [],
   "source": [
    "# Instantiate\n",
    "db = DBSCAN(eps=2, min_samples=10)"
   ]
  },
  {
   "cell_type": "code",
   "execution_count": null,
   "metadata": {},
   "outputs": [],
   "source": [
    "db.fit(combined_bag_df.sample(10))"
   ]
  },
  {
   "cell_type": "code",
   "execution_count": null,
   "metadata": {
    "colab": {},
    "colab_type": "code",
    "id": "3AQY0TpkdAEG",
    "outputId": "f6fa4b26-c77b-4733-a89a-af3e61de399d"
   },
   "outputs": [],
   "source": [
    "%%timeit\n",
    "from sklearn.cluster import DBSCAN\n",
    "\n",
    "# Instantiate\n",
    "db = DBSCAN(eps=2, min_samples=10)\n",
    "\n",
    "# Fit\n",
    "db.fit(combined_bag_df)"
   ]
  },
  {
   "cell_type": "code",
   "execution_count": null,
   "metadata": {},
   "outputs": [],
   "source": [
    "type(db)"
   ]
  },
  {
   "cell_type": "code",
   "execution_count": null,
   "metadata": {
    "colab": {},
    "colab_type": "code",
    "id": "3AQY0TpkdAEG",
    "outputId": "f6fa4b26-c77b-4733-a89a-af3e61de399d"
   },
   "outputs": [],
   "source": [
    "#try this out with a range of eps and min_samples\n",
    "print(db.labels_.sum()) # labels"
   ]
  },
  {
   "cell_type": "code",
   "execution_count": null,
   "metadata": {},
   "outputs": [],
   "source": [
    "np.unique(db.labels_, return_counts=True)"
   ]
  },
  {
   "cell_type": "markdown",
   "metadata": {},
   "source": [
    "Still not great results here."
   ]
  },
  {
   "cell_type": "markdown",
   "metadata": {},
   "source": [
    "Try a larger eps, reduce min_samples"
   ]
  },
  {
   "cell_type": "code",
   "execution_count": null,
   "metadata": {
    "colab": {},
    "colab_type": "code",
    "id": "3AQY0TpkdAEG",
    "outputId": "f6fa4b26-c77b-4733-a89a-af3e61de399d"
   },
   "outputs": [],
   "source": [
    "%%timeit\n",
    "# Instantiate\n",
    "db = DBSCAN(eps=4, min_samples=5)\n",
    "\n",
    "# Fit\n",
    "db.fit(combined_bag_df)"
   ]
  },
  {
   "cell_type": "code",
   "execution_count": null,
   "metadata": {
    "colab": {},
    "colab_type": "code",
    "id": "3AQY0TpkdAEG",
    "outputId": "f6fa4b26-c77b-4733-a89a-af3e61de399d"
   },
   "outputs": [],
   "source": [
    "#try this out with a range of eps and min_samples\n",
    "print(db.labels_.sum()) # labels"
   ]
  },
  {
   "cell_type": "code",
   "execution_count": null,
   "metadata": {},
   "outputs": [],
   "source": [
    "np.unique(db.labels_, return_counts=True)"
   ]
  },
  {
   "cell_type": "code",
   "execution_count": null,
   "metadata": {},
   "outputs": [],
   "source": []
  },
  {
   "cell_type": "markdown",
   "metadata": {},
   "source": [
    "Not much better"
   ]
  },
  {
   "cell_type": "code",
   "execution_count": null,
   "metadata": {},
   "outputs": [],
   "source": [
    "db_labelled_df = combined_bag_df.copy()\n",
    "db_labelled_df.insert(0,\"DB_label\", db.labels_)"
   ]
  },
  {
   "cell_type": "code",
   "execution_count": null,
   "metadata": {},
   "outputs": [],
   "source": [
    "db_zero = db_labelled_df[db_labelled_df[\"DB_label\"]==0]"
   ]
  },
  {
   "cell_type": "markdown",
   "metadata": {},
   "source": [
    "## Autoencoding\n",
    "\n",
    "Attempting Dimension Reduction with Autoencoding"
   ]
  },
  {
   "cell_type": "markdown",
   "metadata": {},
   "source": [
    "# Next Steps\n",
    "[[Back To TOC]](#Table-of-Contents)\n"
   ]
  },
  {
   "cell_type": "markdown",
   "metadata": {},
   "source": [
    "# Conclusion\n",
    "[[Back To TOC]](#Table-of-Contents)\n"
   ]
  },
  {
   "cell_type": "markdown",
   "metadata": {},
   "source": [
    "# References\n",
    "[[Back To TOC]](#Table-of-Contents)"
   ]
  },
  {
   "cell_type": "markdown",
   "metadata": {},
   "source": [
    "[1] Is it possible to translate Python code to English? September 18, 2018. Quora. [online] Available at: https://www.quora.com/Is-it-possible-to-translate-Python-code-to-English\n",
    "\n",
    "[2] Stack Overflow. 2020. [online] Available at: https://stackoverflow.com\n",
    "\n",
    "[3] Conda. 2020. [online] Available at: https://docs.conda.io/projects/conda/en/latest/index.html\n",
    "\n",
    "[4] CoNaLa: The Code/Natural Language Challenge. 2020. CoNaLa: The Code/Natural Language Challenge. [online] Available at: <https://conala-corpus.github.io/#dataset-information> [Accessed 13 November 2020].\n",
    "\n",
    "\n",
    "\n",
    "\n",
    "\n",
    "[x] Learning to Mine Aligned Code and Natural Language Pairs from Stack Overflow. arXiv:1805.08949v1. 23 May 2018. Pengcheng Yin, Bowen Deng, Edgar Chen, Bogdan Vasilescu, Graham Neubig, Carnegie Mellon University, USA. [online]. Available at: https://arxiv.org/pdf/1805.08949.pdf\n",
    "\n",
    "[x] Neural Machine Translation (seq2seq) Tutorial. 2017. Minh-Thang Luong and Eugene Brevdo and Rui Zhao. [online]. Available at: https://github.com/tensorflow/nmt\n",
    "\n",
    "[x] Character-level recurrent sequence-to-sequence model. 2020/04/26. Francois Chollet. [online]. Available at: https://keras.io/examples/nlp/lstm_seq2seq/\n",
    "\n",
    "[x] models.word2vec – Word2vec embeddings. 2020/11/04. Radim Řehůřek. [online]. Available at: https://radimrehurek.com/gensim/models/word2vec.html\n"
   ]
  },
  {
   "cell_type": "code",
   "execution_count": null,
   "metadata": {},
   "outputs": [],
   "source": []
  },
  {
   "cell_type": "code",
   "execution_count": null,
   "metadata": {},
   "outputs": [],
   "source": []
  }
 ],
 "metadata": {
  "kernelspec": {
   "display_name": "Python [conda env:capstone]",
   "language": "python",
   "name": "conda-env-capstone-py"
  },
  "language_info": {
   "codemirror_mode": {
    "name": "ipython",
    "version": 3
   },
   "file_extension": ".py",
   "mimetype": "text/x-python",
   "name": "python",
   "nbconvert_exporter": "python",
   "pygments_lexer": "ipython3",
   "version": "3.8.6"
  }
 },
 "nbformat": 4,
 "nbformat_minor": 4
}
